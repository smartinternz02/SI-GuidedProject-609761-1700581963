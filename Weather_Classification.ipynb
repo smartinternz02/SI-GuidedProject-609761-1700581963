{
 "cells": [
  {
   "cell_type": "code",
   "execution_count": 3,
   "metadata": {
    "colab": {
     "base_uri": "https://localhost:8080/"
    },
    "id": "fcuGHik5Z3gi",
    "outputId": "364e2d46-7f7f-4256-f9d0-82f824b0f47c"
   },
   "outputs": [
    {
     "name": "stdout",
     "output_type": "stream",
     "text": [
      "Found 1225 images belonging to 5 classes.\n",
      "Found 304 images belonging to 5 classes.\n"
     ]
    }
   ],
   "source": [
    "from tensorflow.keras.applications.vgg19 import VGG19,preprocess_input\n",
    "from tensorflow.keras.layers import Flatten,Dense\n",
    "from tensorflow.keras.models import Model\n",
    "from tensorflow.keras.preprocessing.image import ImageDataGenerator\n",
    "from PIL import ImageFile\n",
    "from tensorflow.keras.models import load_model\n",
    "from tensorflow.keras.preprocessing import image\n",
    "import numpy as np\n",
    "IMAGE_SIZE = [180,180]\n",
    "gen_data = ImageDataGenerator(rescale = 1./255,shear_range = 0.2,zoom_range = [.99,1.01],brightness_range = [0.8,1.2],data_format = \"channels_last\",fill_mode = \"constant\", horizontal_flip = True,validation_split=0.2)\n",
    "\n",
    "train_data = gen_data.flow_from_directory('dataset/train',target_size = (180,180),batch_size = 64,class_mode = 'categorical',subset = 'training')\n",
    "test_set = gen_data.flow_from_directory('dataset/TEST',target_size = (180,180),batch_size = 64,class_mode = 'categorical',subset = 'validation')\n",
    "\n",
    "\n"
   ]
  },
  {
   "cell_type": "code",
   "execution_count": 4,
   "metadata": {
    "colab": {
     "base_uri": "https://localhost:8080/"
    },
    "id": "08UbUIL52vBm",
    "outputId": "8b723c4a-5617-4672-c8e6-3fe7ed2a80cf"
   },
   "outputs": [
    {
     "name": "stdout",
     "output_type": "stream",
     "text": [
      "Downloading data from https://storage.googleapis.com/tensorflow/keras-applications/vgg19/vgg19_weights_tf_dim_ordering_tf_kernels_notop.h5\n",
      "80134624/80134624 [==============================] - 0s 0us/step\n"
     ]
    }
   ],
   "source": [
    "VGG19 = VGG19(input_shape= IMAGE_SIZE+[3],weights = 'imagenet',include_top = False)\n",
    "for i in VGG19.layers:\n",
    "  i.trainable = False\n",
    "x = Flatten()(VGG19.output)"
   ]
  },
  {
   "cell_type": "code",
   "execution_count": 5,
   "metadata": {
    "colab": {
     "base_uri": "https://localhost:8080/"
    },
    "id": "xWKlH17yacpk",
    "outputId": "c091c144-6042-4931-ed0f-346b7bcf9195"
   },
   "outputs": [
    {
     "name": "stdout",
     "output_type": "stream",
     "text": [
      "Model: \"model\"\n",
      "_________________________________________________________________\n",
      " Layer (type)                Output Shape              Param #   \n",
      "=================================================================\n",
      " input_1 (InputLayer)        [(None, 180, 180, 3)]     0         \n",
      "                                                                 \n",
      " block1_conv1 (Conv2D)       (None, 180, 180, 64)      1792      \n",
      "                                                                 \n",
      " block1_conv2 (Conv2D)       (None, 180, 180, 64)      36928     \n",
      "                                                                 \n",
      " block1_pool (MaxPooling2D)  (None, 90, 90, 64)        0         \n",
      "                                                                 \n",
      " block2_conv1 (Conv2D)       (None, 90, 90, 128)       73856     \n",
      "                                                                 \n",
      " block2_conv2 (Conv2D)       (None, 90, 90, 128)       147584    \n",
      "                                                                 \n",
      " block2_pool (MaxPooling2D)  (None, 45, 45, 128)       0         \n",
      "                                                                 \n",
      " block3_conv1 (Conv2D)       (None, 45, 45, 256)       295168    \n",
      "                                                                 \n",
      " block3_conv2 (Conv2D)       (None, 45, 45, 256)       590080    \n",
      "                                                                 \n",
      " block3_conv3 (Conv2D)       (None, 45, 45, 256)       590080    \n",
      "                                                                 \n",
      " block3_conv4 (Conv2D)       (None, 45, 45, 256)       590080    \n",
      "                                                                 \n",
      " block3_pool (MaxPooling2D)  (None, 22, 22, 256)       0         \n",
      "                                                                 \n",
      " block4_conv1 (Conv2D)       (None, 22, 22, 512)       1180160   \n",
      "                                                                 \n",
      " block4_conv2 (Conv2D)       (None, 22, 22, 512)       2359808   \n",
      "                                                                 \n",
      " block4_conv3 (Conv2D)       (None, 22, 22, 512)       2359808   \n",
      "                                                                 \n",
      " block4_conv4 (Conv2D)       (None, 22, 22, 512)       2359808   \n",
      "                                                                 \n",
      " block4_pool (MaxPooling2D)  (None, 11, 11, 512)       0         \n",
      "                                                                 \n",
      " block5_conv1 (Conv2D)       (None, 11, 11, 512)       2359808   \n",
      "                                                                 \n",
      " block5_conv2 (Conv2D)       (None, 11, 11, 512)       2359808   \n",
      "                                                                 \n",
      " block5_conv3 (Conv2D)       (None, 11, 11, 512)       2359808   \n",
      "                                                                 \n",
      " block5_conv4 (Conv2D)       (None, 11, 11, 512)       2359808   \n",
      "                                                                 \n",
      " block5_pool (MaxPooling2D)  (None, 5, 5, 512)         0         \n",
      "                                                                 \n",
      " flatten (Flatten)           (None, 12800)             0         \n",
      "                                                                 \n",
      " dense (Dense)               (None, 5)                 64005     \n",
      "                                                                 \n",
      "=================================================================\n",
      "Total params: 20,088,389\n",
      "Trainable params: 64,005\n",
      "Non-trainable params: 20,024,384\n",
      "_________________________________________________________________\n"
     ]
    }
   ],
   "source": [
    "prediction = Dense(5,activation = 'softmax')(x)\n",
    "model = Model(inputs = VGG19.input,outputs = prediction)\n",
    "model.summary()"
   ]
  },
  {
   "cell_type": "code",
   "execution_count": 6,
   "metadata": {
    "colab": {
     "base_uri": "https://localhost:8080/"
    },
    "id": "bObbOq9r4DTi",
    "outputId": "ce79b89c-1483-41f0-f271-2dde91b77840"
   },
   "outputs": [
    {
     "name": "stdout",
     "output_type": "stream",
     "text": [
      "Epoch 1/50\n",
      "20/20 [==============================] - 382s 18s/step - loss: 1.1983 - accuracy: 0.5143 - val_loss: 0.8743 - val_accuracy: 0.6941\n",
      "Epoch 2/50\n",
      "20/20 [==============================] - 28s 1s/step - loss: 0.5787 - accuracy: 0.8204 - val_loss: 0.6132 - val_accuracy: 0.7796\n",
      "Epoch 3/50\n",
      "20/20 [==============================] - 27s 1s/step - loss: 0.4452 - accuracy: 0.8588 - val_loss: 0.5268 - val_accuracy: 0.8158\n",
      "Epoch 4/50\n",
      "20/20 [==============================] - 28s 1s/step - loss: 0.3768 - accuracy: 0.8914 - val_loss: 0.5132 - val_accuracy: 0.8158\n",
      "Epoch 5/50\n",
      "20/20 [==============================] - 27s 1s/step - loss: 0.3149 - accuracy: 0.9127 - val_loss: 0.5125 - val_accuracy: 0.8092\n",
      "Epoch 6/50\n",
      "20/20 [==============================] - 28s 1s/step - loss: 0.2900 - accuracy: 0.9200 - val_loss: 0.4723 - val_accuracy: 0.8092\n",
      "Epoch 7/50\n",
      "20/20 [==============================] - 27s 1s/step - loss: 0.2486 - accuracy: 0.9388 - val_loss: 0.4365 - val_accuracy: 0.8618\n",
      "Epoch 8/50\n",
      "20/20 [==============================] - 28s 1s/step - loss: 0.2298 - accuracy: 0.9437 - val_loss: 0.4173 - val_accuracy: 0.8191\n",
      "Epoch 9/50\n",
      "20/20 [==============================] - 32s 2s/step - loss: 0.2125 - accuracy: 0.9437 - val_loss: 0.4524 - val_accuracy: 0.8125\n",
      "Epoch 10/50\n",
      "20/20 [==============================] - 28s 1s/step - loss: 0.1925 - accuracy: 0.9518 - val_loss: 0.4359 - val_accuracy: 0.8421\n",
      "Epoch 11/50\n",
      "20/20 [==============================] - 27s 1s/step - loss: 0.1969 - accuracy: 0.9461 - val_loss: 0.4274 - val_accuracy: 0.8257\n",
      "Epoch 12/50\n",
      "20/20 [==============================] - 29s 1s/step - loss: 0.1674 - accuracy: 0.9567 - val_loss: 0.3893 - val_accuracy: 0.8520\n",
      "Epoch 13/50\n",
      "20/20 [==============================] - 27s 1s/step - loss: 0.1646 - accuracy: 0.9624 - val_loss: 0.4427 - val_accuracy: 0.8257\n",
      "Epoch 14/50\n",
      "20/20 [==============================] - 32s 2s/step - loss: 0.1555 - accuracy: 0.9567 - val_loss: 0.3966 - val_accuracy: 0.8618\n",
      "Epoch 15/50\n",
      "20/20 [==============================] - 31s 2s/step - loss: 0.1304 - accuracy: 0.9682 - val_loss: 0.4382 - val_accuracy: 0.8257\n",
      "Epoch 16/50\n",
      "20/20 [==============================] - 27s 1s/step - loss: 0.1259 - accuracy: 0.9739 - val_loss: 0.3882 - val_accuracy: 0.8586\n",
      "Epoch 17/50\n",
      "20/20 [==============================] - 27s 1s/step - loss: 0.1227 - accuracy: 0.9747 - val_loss: 0.4643 - val_accuracy: 0.8257\n",
      "Epoch 18/50\n",
      "20/20 [==============================] - 31s 2s/step - loss: 0.1248 - accuracy: 0.9763 - val_loss: 0.3701 - val_accuracy: 0.8717\n",
      "Epoch 19/50\n",
      "20/20 [==============================] - 27s 1s/step - loss: 0.1136 - accuracy: 0.9763 - val_loss: 0.3850 - val_accuracy: 0.8783\n",
      "Epoch 20/50\n",
      "20/20 [==============================] - 27s 1s/step - loss: 0.1083 - accuracy: 0.9771 - val_loss: 0.4074 - val_accuracy: 0.8586\n",
      "Epoch 21/50\n",
      "20/20 [==============================] - 27s 1s/step - loss: 0.1009 - accuracy: 0.9771 - val_loss: 0.4592 - val_accuracy: 0.8783\n",
      "Epoch 22/50\n",
      "20/20 [==============================] - 27s 1s/step - loss: 0.1055 - accuracy: 0.9796 - val_loss: 0.4442 - val_accuracy: 0.8487\n",
      "Epoch 23/50\n",
      "20/20 [==============================] - 27s 1s/step - loss: 0.1075 - accuracy: 0.9763 - val_loss: 0.3923 - val_accuracy: 0.8618\n",
      "Epoch 24/50\n",
      "20/20 [==============================] - 27s 1s/step - loss: 0.0886 - accuracy: 0.9845 - val_loss: 0.3988 - val_accuracy: 0.8553\n",
      "Epoch 25/50\n",
      "20/20 [==============================] - 29s 1s/step - loss: 0.0913 - accuracy: 0.9837 - val_loss: 0.3980 - val_accuracy: 0.8684\n",
      "Epoch 26/50\n",
      "20/20 [==============================] - 28s 1s/step - loss: 0.0932 - accuracy: 0.9804 - val_loss: 0.3795 - val_accuracy: 0.8717\n",
      "Epoch 27/50\n",
      "20/20 [==============================] - 28s 1s/step - loss: 0.0854 - accuracy: 0.9788 - val_loss: 0.4115 - val_accuracy: 0.8553\n",
      "Epoch 28/50\n",
      "20/20 [==============================] - 27s 1s/step - loss: 0.0808 - accuracy: 0.9861 - val_loss: 0.4048 - val_accuracy: 0.8586\n",
      "Epoch 29/50\n",
      "20/20 [==============================] - 27s 1s/step - loss: 0.0768 - accuracy: 0.9853 - val_loss: 0.4541 - val_accuracy: 0.8651\n",
      "Epoch 30/50\n",
      "20/20 [==============================] - 27s 1s/step - loss: 0.0749 - accuracy: 0.9861 - val_loss: 0.3984 - val_accuracy: 0.8651\n",
      "Epoch 31/50\n",
      "20/20 [==============================] - 27s 1s/step - loss: 0.0625 - accuracy: 0.9927 - val_loss: 0.3851 - val_accuracy: 0.8651\n",
      "Epoch 32/50\n",
      "20/20 [==============================] - 29s 1s/step - loss: 0.0671 - accuracy: 0.9886 - val_loss: 0.3447 - val_accuracy: 0.8980\n",
      "Epoch 33/50\n",
      "20/20 [==============================] - 27s 1s/step - loss: 0.0656 - accuracy: 0.9886 - val_loss: 0.3559 - val_accuracy: 0.8651\n",
      "Epoch 34/50\n",
      "20/20 [==============================] - 27s 1s/step - loss: 0.0638 - accuracy: 0.9878 - val_loss: 0.4461 - val_accuracy: 0.8454\n",
      "Epoch 35/50\n",
      "20/20 [==============================] - 31s 2s/step - loss: 0.0620 - accuracy: 0.9878 - val_loss: 0.3974 - val_accuracy: 0.8750\n",
      "Epoch 36/50\n",
      "20/20 [==============================] - 27s 1s/step - loss: 0.0552 - accuracy: 0.9927 - val_loss: 0.4103 - val_accuracy: 0.8651\n",
      "Epoch 37/50\n",
      "20/20 [==============================] - 27s 1s/step - loss: 0.0529 - accuracy: 0.9935 - val_loss: 0.4450 - val_accuracy: 0.8618\n",
      "Epoch 38/50\n",
      "20/20 [==============================] - 31s 2s/step - loss: 0.0555 - accuracy: 0.9927 - val_loss: 0.4325 - val_accuracy: 0.8553\n",
      "Epoch 39/50\n",
      "20/20 [==============================] - 27s 1s/step - loss: 0.0510 - accuracy: 0.9918 - val_loss: 0.4073 - val_accuracy: 0.8914\n",
      "Epoch 40/50\n",
      "20/20 [==============================] - 27s 1s/step - loss: 0.0533 - accuracy: 0.9902 - val_loss: 0.4265 - val_accuracy: 0.8651\n",
      "Epoch 41/50\n",
      "20/20 [==============================] - 27s 1s/step - loss: 0.0552 - accuracy: 0.9910 - val_loss: 0.4464 - val_accuracy: 0.8586\n",
      "Epoch 42/50\n",
      "20/20 [==============================] - 27s 1s/step - loss: 0.0559 - accuracy: 0.9927 - val_loss: 0.4356 - val_accuracy: 0.8717\n",
      "Epoch 43/50\n",
      "20/20 [==============================] - 27s 1s/step - loss: 0.0503 - accuracy: 0.9943 - val_loss: 0.4395 - val_accuracy: 0.8586\n",
      "Epoch 44/50\n",
      "20/20 [==============================] - 27s 1s/step - loss: 0.0516 - accuracy: 0.9902 - val_loss: 0.4375 - val_accuracy: 0.8651\n",
      "Epoch 45/50\n",
      "20/20 [==============================] - 27s 1s/step - loss: 0.0463 - accuracy: 0.9935 - val_loss: 0.5156 - val_accuracy: 0.8651\n",
      "Epoch 46/50\n",
      "20/20 [==============================] - 29s 1s/step - loss: 0.0658 - accuracy: 0.9853 - val_loss: 0.4683 - val_accuracy: 0.8684\n",
      "Epoch 47/50\n",
      "20/20 [==============================] - 27s 1s/step - loss: 0.0561 - accuracy: 0.9894 - val_loss: 0.4104 - val_accuracy: 0.8684\n",
      "Epoch 48/50\n",
      "20/20 [==============================] - 27s 1s/step - loss: 0.0479 - accuracy: 0.9910 - val_loss: 0.3555 - val_accuracy: 0.8783\n",
      "Epoch 49/50\n",
      "20/20 [==============================] - 27s 1s/step - loss: 0.0407 - accuracy: 0.9951 - val_loss: 0.3848 - val_accuracy: 0.8783\n",
      "Epoch 50/50\n",
      "20/20 [==============================] - 27s 1s/step - loss: 0.0405 - accuracy: 0.9951 - val_loss: 0.4067 - val_accuracy: 0.8717\n",
      "11/11 - 13s - loss: 0.4014 - accuracy: 0.8824 - 13s/epoch - 1s/step\n",
      "model performance on test images:\n",
      " Accuracy = 0.882440447807312\n",
      " Loss = 0.40138766169548035\n"
     ]
    }
   ],
   "source": [
    "model.compile(loss = 'categorical_crossentropy',optimizer = 'adam',metrics = ['accuracy'])\n",
    "r = model.fit(train_data,validation_data = test_set,epochs = 50,steps_per_epoch = len(train_data),validation_steps = len(test_set))\n",
    "loss,accuracy = model.evaluate(test_set,steps = 11,verbose = 2,use_multiprocessing=True,workers=2)\n",
    "print(f'model performance on test images:\\n Accuracy = {accuracy}\\n Loss = {loss}')\n",
    "\n",
    "\n",
    "\n",
    "\n"
   ]
  },
  {
   "cell_type": "code",
   "execution_count": 7,
   "metadata": {
    "id": "FIQ7mBQO_TLq"
   },
   "outputs": [],
   "source": [
    "model.save('weathermodel.h5')"
   ]
  },
  {
   "cell_type": "code",
   "execution_count": 10,
   "metadata": {
    "colab": {
     "base_uri": "https://localhost:8080/"
    },
    "id": "OjgP067j_93E",
    "outputId": "9ab59267-e5ed-419f-80fd-a046dc366bda"
   },
   "outputs": [
    {
     "name": "stdout",
     "output_type": "stream",
     "text": [
      "1/1 [==============================] - 1s 818ms/step\n",
      "sunrise\n"
     ]
    }
   ],
   "source": [
    "from tensorflow.keras.models import load_model\n",
    "from tensorflow.keras.preprocessing import image\n",
    "model = load_model(\"/content/wcv.h5\")\n",
    "\n",
    "img = image.load_img(\"/content/drive/MyDrive/dataset/TEST/sunrise_3.jpg\",target_size = (180,180))\n",
    "x = image.img_to_array(img)\n",
    "x = np.expand_dims(x,axis = 0)\n",
    "preds = model.predict(x)\n",
    "pred = np.argmax(preds,axis = 1)\n",
    "index = ['cloudy','foggy','rainy','sunshine','sunrise']\n",
    "res = str(index[pred[0]])\n",
    "print(res)  "
   ]
  },
  {
   "cell_type": "code",
   "execution_count": 11,
   "metadata": {
    "colab": {
     "base_uri": "https://localhost:8080/"
    },
    "id": "Ccp7GgCYMsqA",
    "outputId": "2aceeea8-3b22-4671-fb37-b0fa725818a8"
   },
   "outputs": [
    {
     "name": "stdout",
     "output_type": "stream",
     "text": [
      "1/1 [==============================] - 0s 21ms/step\n",
      "1/1 [==============================] - 0s 20ms/step\n",
      "1/1 [==============================] - 0s 19ms/step\n",
      "1/1 [==============================] - 0s 21ms/step\n",
      "1/1 [==============================] - 0s 22ms/step\n",
      "1/1 [==============================] - 0s 18ms/step\n",
      "1/1 [==============================] - 0s 21ms/step\n",
      "1/1 [==============================] - 0s 30ms/step\n",
      "1/1 [==============================] - 0s 18ms/step\n",
      "1/1 [==============================] - 0s 26ms/step\n",
      "1/1 [==============================] - 0s 18ms/step\n",
      "1/1 [==============================] - 0s 21ms/step\n",
      "1/1 [==============================] - 0s 20ms/step\n",
      "1/1 [==============================] - 0s 19ms/step\n",
      "1/1 [==============================] - 0s 20ms/step\n",
      "1/1 [==============================] - 0s 21ms/step\n",
      "1/1 [==============================] - 0s 19ms/step\n",
      "1/1 [==============================] - 0s 19ms/step\n",
      "1/1 [==============================] - 0s 19ms/step\n",
      "1/1 [==============================] - 0s 19ms/step\n",
      "1/1 [==============================] - 0s 21ms/step\n",
      "1/1 [==============================] - 0s 39ms/step\n",
      "1/1 [==============================] - 0s 27ms/step\n",
      "1/1 [==============================] - 0s 27ms/step\n",
      "1/1 [==============================] - 0s 27ms/step\n",
      "1/1 [==============================] - 0s 28ms/step\n",
      "1/1 [==============================] - 0s 27ms/step\n",
      "1/1 [==============================] - 0s 33ms/step\n",
      "1/1 [==============================] - 0s 20ms/step\n",
      "1/1 [==============================] - 0s 21ms/step\n",
      "70.0\n"
     ]
    }
   ],
   "source": [
    "import os\n",
    "folder_path = \"dataset/TEST/\"\n",
    "n_file = os.listdir(folder_path)\n",
    "corr_count = 0\n",
    "for image_file in n_file:\n",
    "    path = \"dataset/TEST/{}\".format(image_file)\n",
    "    img = image.load_img(path,target_size = (180,180))\n",
    "    x = image.img_to_array(img)\n",
    "    x = np.expand_dims(x,axis = 0)\n",
    "    preds = model.predict(x)\n",
    "    pred = np.argmax(preds,axis = 1)\n",
    "    index = ['Cloud','foggy','rain','shine','sunrise']\n",
    "    res = str(index[pred[0]])\n",
    "    filename,ext = os.path.splitext(image_file)\n",
    "    if(res in filename):\n",
    "        corr_count+=1\n",
    "acc = ((corr_count)/len(n_file))*100\n",
    "print(acc)\n",
    "\n",
    "\n",
    "\n"
   ]
  }
 ],
 "metadata": {
  "accelerator": "GPU",
  "colab": {
   "provenance": []
  },
  "gpuClass": "standard",
  "kernelspec": {
   "display_name": "Python 3 (ipykernel)",
   "language": "python",
   "name": "python3"
  },
  "language_info": {
   "codemirror_mode": {
    "name": "ipython",
    "version": 3
   },
   "file_extension": ".py",
   "mimetype": "text/x-python",
   "name": "python",
   "nbconvert_exporter": "python",
   "pygments_lexer": "ipython3",
   "version": "3.9.2"
  }
 },
 "nbformat": 4,
 "nbformat_minor": 1
}
